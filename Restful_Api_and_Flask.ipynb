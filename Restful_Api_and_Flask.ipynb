{
  "nbformat": 4,
  "nbformat_minor": 0,
  "metadata": {
    "colab": {
      "provenance": []
    },
    "kernelspec": {
      "name": "python3",
      "display_name": "Python 3"
    },
    "language_info": {
      "name": "python"
    }
  },
  "cells": [
    {
      "cell_type": "markdown",
      "source": [
        "#Restful Api and Flask"
      ],
      "metadata": {
        "id": "bzKEgFTGDlrr"
      }
    },
    {
      "cell_type": "markdown",
      "source": [
        "#Theory Questions"
      ],
      "metadata": {
        "id": "rWVPa2w0DpRy"
      }
    },
    {
      "cell_type": "markdown",
      "source": [
        "Q1-What is a RESTful API?\n",
        "\n",
        "Answer: A RESTful API is a web service that follows the principles of REST (Representational State Transfer). It uses standard HTTP methods such as GET, POST, PUT, and DELETE to perform operations on resources and enables communication between client and server in a stateless manner.\n",
        "\n"
      ],
      "metadata": {
        "id": "fNB8MxqLDpuB"
      }
    },
    {
      "cell_type": "markdown",
      "source": [
        "Q2-Explain the concept of API specification.\n",
        "\n",
        "Answer: An API specification is a detailed blueprint of how an API behaves and functions. It defines endpoints, request and response formats, data types, authentication methods, and error codes, providing a consistent guideline for developers using the API."
      ],
      "metadata": {
        "id": "9GPf0aqpDpwe"
      }
    },
    {
      "cell_type": "markdown",
      "source": [
        "Q3-What is Flask, and why is it popular for building APIs?\n",
        "\n",
        "Answer: Flask is a micro web framework written in Python. It is popular for API development because of its lightweight design, minimal setup, and flexibility. It supports rapid development and can be easily extended using third-party libraries."
      ],
      "metadata": {
        "id": "XaaX7OUfDpzF"
      }
    },
    {
      "cell_type": "markdown",
      "source": [
        "Q4-What is routing in Flask?\n",
        "\n",
        "Answer: Routing in Flask refers to mapping a URL path to a specific function, known as a view function. When the URL is accessed, Flask executes the corresponding function to generate a response."
      ],
      "metadata": {
        "id": "zVe6NTvnDp1i"
      }
    },
    {
      "cell_type": "markdown",
      "source": [
        "Q5-How do you create a simple Flask application?\n",
        "\n",
        "Answer: A simple Flask application is created by importing Flask, initializing the app object, defining routes using decorators, and running the app. This setup allows handling HTTP requests and responses."
      ],
      "metadata": {
        "id": "STuiIKBbDp4g"
      }
    },
    {
      "cell_type": "markdown",
      "source": [
        "Q6-What are HTTP methods used in RESTful APIs?\n",
        "\n",
        "Answer: RESTful APIs commonly use the following HTTP methods:\n",
        "\n",
        "GET to retrieve data\n",
        "\n",
        "POST to create data\n",
        "\n",
        "PUT to update existing data\n",
        "\n",
        "DELETE to remove data\n",
        "\n",
        "PATCH for partial updates"
      ],
      "metadata": {
        "id": "AzqQupWdDp7z"
      }
    },
    {
      "cell_type": "markdown",
      "source": [
        "Q7-What is the purpose of the @app.route() decorator in Flask?\n",
        "\n",
        "Answer: The @app.route() decorator in Flask is used to define a URL endpoint for a view function. It tells Flask which URL should trigger the execution of the function."
      ],
      "metadata": {
        "id": "PuLFUo93Dp-W"
      }
    },
    {
      "cell_type": "markdown",
      "source": [
        "Q8-What is the difference between GET and POST HTTP methods?\n",
        "\n",
        "Answer: The GET method is used to request data from a server and appends data in the URL. POST is used to send data to the server, typically in the request body, and is often used for creating or submitting forms securely.\n",
        "\n"
      ],
      "metadata": {
        "id": "aq0AE069DqBE"
      }
    },
    {
      "cell_type": "markdown",
      "source": [
        "Q9-How do you handle errors in Flask APIs?\n",
        "\n",
        "Answer: Errors in Flask APIs are handled using error handler functions decorated with @app.errorhandler(). Custom responses can be returned for errors like 404 (Not Found) or 500 (Internal Server Error)."
      ],
      "metadata": {
        "id": "0oEhPQfFDqDc"
      }
    },
    {
      "cell_type": "markdown",
      "source": [
        "Q10-How do you connect Flask to a SQL database?\n",
        "\n",
        "Answer: Flask connects to a SQL database using extensions like Flask-SQLAlchemy. Configuration settings such as the database URI are provided, and models are defined using Python classes to interact with the database."
      ],
      "metadata": {
        "id": "G_elEKutDqGf"
      }
    },
    {
      "cell_type": "markdown",
      "source": [
        "Q11-What is the role of Flask-SQLAlchemy?\n",
        "\n",
        "Answer: Flask-SQLAlchemy is an Object Relational Mapper (ORM) that integrates SQLAlchemy with Flask. It simplifies database operations by allowing developers to define models and interact with the database using Python code."
      ],
      "metadata": {
        "id": "Iw_a22T7DqJc"
      }
    },
    {
      "cell_type": "markdown",
      "source": [
        "Q12-What are Flask blueprints, and how are they useful?\n",
        "\n",
        "Answer: Flask blueprints are components used to organize routes, templates, and static files in larger applications. They help in breaking down the app into manageable modules and make the codebase more scalable and maintainable.\n",
        "\n"
      ],
      "metadata": {
        "id": "ZFG9d-IGDqNO"
      }
    },
    {
      "cell_type": "markdown",
      "source": [
        "Q13-What is the purpose of Flask's request object?\n",
        "\n",
        "Answer: Flask's request object provides access to incoming request data such as form inputs, JSON payloads, headers, and query parameters. It is used to extract information sent by the client.\n"
      ],
      "metadata": {
        "id": "d8_EtQ7kDqP5"
      }
    },
    {
      "cell_type": "markdown",
      "source": [
        "Q14-How do you create a RESTful API endpoint using Flask?\n",
        "\n",
        "Answer: A RESTful API endpoint is created in Flask by defining a route with a specific HTTP method and associating it with a view function that handles the logic and returns a response."
      ],
      "metadata": {
        "id": "h1nuJup_DqSX"
      }
    },
    {
      "cell_type": "markdown",
      "source": [
        "Q15-What is the purpose of Flask's jsonify() function?\n",
        "\n",
        "Answer: Flask's jsonify() function is used to convert Python data structures like dictionaries into JSON format, automatically adding the appropriate content-type header for the response."
      ],
      "metadata": {
        "id": "y0eDmeduDqVL"
      }
    },
    {
      "cell_type": "markdown",
      "source": [
        "Q16-Explain Flask’s url_for() function.\n",
        "\n",
        "Answer: Flask’s url_for() function dynamically generates URLs for view functions by referencing their names. It is useful for maintaining clean and flexible URL paths without hardcoding them.\n",
        "\n"
      ],
      "metadata": {
        "id": "jS0VUAr1DqX_"
      }
    },
    {
      "cell_type": "markdown",
      "source": [
        "Q17-How does Flask handle static files (CSS, JavaScript, etc.)?\n",
        "\n",
        "Answer: Flask serves static files from the static/ directory by default. These files can be accessed using the /static/filename path, and are commonly used for stylesheets, images, and JavaScript files."
      ],
      "metadata": {
        "id": "DpbUPNH2DqaZ"
      }
    },
    {
      "cell_type": "markdown",
      "source": [
        "Q18-What is an API specification, and how does it help in building a Flask API?\n",
        "\n",
        "Answer: An API specification is a formal description of an API’s behavior, structure, and communication. It helps developers understand how to use the API correctly and supports tools for documentation, testing, and validation."
      ],
      "metadata": {
        "id": "oUwt57dJDqdY"
      }
    },
    {
      "cell_type": "markdown",
      "source": [
        "Q19-What are HTTP status codes, and why are they important in a Flask API?\n",
        "\n",
        "Answer: HTTP status codes are three-digit numbers returned with API responses to indicate success or failure. For example, 200 means OK, 404 means Not Found, and 500 means Internal Server Error. They help clients interpret the result of a request."
      ],
      "metadata": {
        "id": "H_IY3G4LDqf5"
      }
    },
    {
      "cell_type": "markdown",
      "source": [
        "Q20-How do you handle POST requests in Flask?\n",
        "\n",
        "Answer: POST requests in Flask are handled by defining a route that accepts the POST method and using the request object to extract data from the request body, typically in JSON or form format"
      ],
      "metadata": {
        "id": "7I2KcS9IDqir"
      }
    },
    {
      "cell_type": "markdown",
      "source": [
        "Q21-How would you secure a Flask API?\n",
        "\n",
        "Answer: A Flask API can be secured using HTTPS, authentication mechanisms (like JWT or OAuth), input validation, CSRF protection, rate limiting, and secure session handling."
      ],
      "metadata": {
        "id": "Q-NyPymgDqlN"
      }
    },
    {
      "cell_type": "markdown",
      "source": [
        "Q22-What is the significance of the Flask-RESTful extension?\n",
        "\n",
        "Answer: Flask-RESTful is an extension that simplifies the creation of RESTful APIs by providing tools such as Resource classes, request parsers, and structured response handling, enhancing productivity and organization.\n",
        "\n"
      ],
      "metadata": {
        "id": "miRCxGZ-Dqnr"
      }
    },
    {
      "cell_type": "markdown",
      "source": [
        "Q23-What is the role of Flask’s session object?\n",
        "\n",
        "Answer: Flask’s session object is used to store information across requests on a per-user basis, such as login status or user preferences. The session data is stored securely in a cookie on the client side."
      ],
      "metadata": {
        "id": "RNMNeNKuDqqZ"
      }
    },
    {
      "cell_type": "markdown",
      "source": [
        "#Practical Questions"
      ],
      "metadata": {
        "id": "1mAfEts6Dqs8"
      }
    },
    {
      "cell_type": "markdown",
      "source": [
        "Q1- How do you create a basic Flask application?"
      ],
      "metadata": {
        "id": "wfG6GUsUDqvd"
      }
    },
    {
      "cell_type": "code",
      "source": [
        "from flask import Flask\n",
        "\n",
        "app = Flask(__name__)\n",
        "\n",
        "@app.route('/')\n",
        "def home():\n",
        "    return \"Hello from Flask!\"\n",
        "\n",
        "if __name__ == '__main__':\n",
        "    app.run(debug=True)\n",
        "\n"
      ],
      "metadata": {
        "colab": {
          "base_uri": "https://localhost:8080/"
        },
        "id": "DVE3UOwxMFuj",
        "outputId": "a292998c-37df-4d79-be72-14b70114f0ca"
      },
      "execution_count": 7,
      "outputs": [
        {
          "output_type": "stream",
          "name": "stdout",
          "text": [
            " * Serving Flask app '__main__'\n",
            " * Debug mode: on\n"
          ]
        },
        {
          "output_type": "stream",
          "name": "stderr",
          "text": [
            "INFO:werkzeug:\u001b[31m\u001b[1mWARNING: This is a development server. Do not use it in a production deployment. Use a production WSGI server instead.\u001b[0m\n",
            " * Running on http://127.0.0.1:5000\n",
            "INFO:werkzeug:\u001b[33mPress CTRL+C to quit\u001b[0m\n",
            "INFO:werkzeug: * Restarting with stat\n"
          ]
        }
      ]
    },
    {
      "cell_type": "markdown",
      "source": [
        "Q2-How do you serve static files like images or CSS in Flask?"
      ],
      "metadata": {
        "id": "tlii9TqwDqxv"
      }
    },
    {
      "cell_type": "code",
      "execution_count": 8,
      "metadata": {
        "colab": {
          "base_uri": "https://localhost:8080/"
        },
        "id": "6mozbqHmB4GD",
        "outputId": "357bd3b9-d083-4ed6-a6a1-2f8968be4a8b"
      },
      "outputs": [
        {
          "output_type": "stream",
          "name": "stdout",
          "text": [
            " * Serving Flask app '__main__'\n",
            " * Debug mode: on\n"
          ]
        },
        {
          "output_type": "stream",
          "name": "stderr",
          "text": [
            "INFO:werkzeug:\u001b[31m\u001b[1mWARNING: This is a development server. Do not use it in a production deployment. Use a production WSGI server instead.\u001b[0m\n",
            " * Running on http://127.0.0.1:5000\n",
            "INFO:werkzeug:\u001b[33mPress CTRL+C to quit\u001b[0m\n",
            "INFO:werkzeug: * Restarting with stat\n"
          ]
        }
      ],
      "source": [
        "from flask import Flask, render_template\n",
        "\n",
        "app = Flask(__name__)\n",
        "\n",
        "@app.route('/')\n",
        "def index():\n",
        "    return render_template('index.html')  # Make sure static files are linked in this HTML\n",
        "\n",
        "if __name__ == '__main__':\n",
        "    app.run(debug=True)\n"
      ]
    },
    {
      "cell_type": "markdown",
      "source": [
        "Q3-How do you define different routes with different HTTP methods in Flask?"
      ],
      "metadata": {
        "id": "7r88TvlNQ5kf"
      }
    },
    {
      "cell_type": "code",
      "source": [
        "from flask import Flask, request\n",
        "\n",
        "app = Flask(__name__)\n",
        "\n",
        "@app.route('/example', methods=['GET', 'POST'])\n",
        "def example():\n",
        "    if request.method == 'POST':\n",
        "        return \"POST method received\"\n",
        "    return \"GET method received\"\n",
        "\n",
        "if __name__ == '__main__':\n",
        "    app.run(debug=True)\n"
      ],
      "metadata": {
        "colab": {
          "base_uri": "https://localhost:8080/"
        },
        "id": "D2b_rNtXDhhO",
        "outputId": "8e65986d-3530-4997-ee4c-4908a3a4f2b1"
      },
      "execution_count": 9,
      "outputs": [
        {
          "output_type": "stream",
          "name": "stdout",
          "text": [
            " * Serving Flask app '__main__'\n",
            " * Debug mode: on\n"
          ]
        },
        {
          "output_type": "stream",
          "name": "stderr",
          "text": [
            "INFO:werkzeug:\u001b[31m\u001b[1mWARNING: This is a development server. Do not use it in a production deployment. Use a production WSGI server instead.\u001b[0m\n",
            " * Running on http://127.0.0.1:5000\n",
            "INFO:werkzeug:\u001b[33mPress CTRL+C to quit\u001b[0m\n",
            "INFO:werkzeug: * Restarting with stat\n"
          ]
        }
      ]
    },
    {
      "cell_type": "markdown",
      "source": [
        "Q4- How do you render HTML templates in Flask?"
      ],
      "metadata": {
        "id": "JZdtHP7jRnSJ"
      }
    },
    {
      "cell_type": "code",
      "source": [
        "from flask import Flask, render_template\n",
        "\n",
        "app = Flask(__name__)\n",
        "\n",
        "@app.route('/')\n",
        "def home():\n",
        "    return render_template('home.html')  # Make sure this file exists in /templates folder\n",
        "\n",
        "if __name__ == '__main__':\n",
        "    app.run(debug=True)\n"
      ],
      "metadata": {
        "colab": {
          "base_uri": "https://localhost:8080/"
        },
        "id": "l1v_9BCSRhrm",
        "outputId": "15b80ad0-569b-4d86-88e6-9c7f4ec3559b"
      },
      "execution_count": 10,
      "outputs": [
        {
          "output_type": "stream",
          "name": "stdout",
          "text": [
            " * Serving Flask app '__main__'\n",
            " * Debug mode: on\n"
          ]
        },
        {
          "output_type": "stream",
          "name": "stderr",
          "text": [
            "INFO:werkzeug:\u001b[31m\u001b[1mWARNING: This is a development server. Do not use it in a production deployment. Use a production WSGI server instead.\u001b[0m\n",
            " * Running on http://127.0.0.1:5000\n",
            "INFO:werkzeug:\u001b[33mPress CTRL+C to quit\u001b[0m\n",
            "INFO:werkzeug: * Restarting with stat\n"
          ]
        }
      ]
    },
    {
      "cell_type": "markdown",
      "source": [
        "Q5-How can you generate URLs for routes in Flask using url_for?"
      ],
      "metadata": {
        "id": "YRkQuUsjR6iQ"
      }
    },
    {
      "cell_type": "code",
      "source": [
        "from flask import Flask, url_for\n",
        "\n",
        "app = Flask(__name__)\n",
        "\n",
        "@app.route('/')\n",
        "def index():\n",
        "    return f\"Go to Profile: {url_for('profile')}\"\n",
        "\n",
        "@app.route('/profile')\n",
        "def profile():\n",
        "    return \"This is the profile page\"\n",
        "\n",
        "if __name__ == '__main__':\n",
        "    app.run(debug=True)\n"
      ],
      "metadata": {
        "colab": {
          "base_uri": "https://localhost:8080/"
        },
        "id": "ZjaVS8EMR0Sv",
        "outputId": "d3512355-57fc-4825-9da2-8d1de0d8c402"
      },
      "execution_count": 11,
      "outputs": [
        {
          "output_type": "stream",
          "name": "stdout",
          "text": [
            " * Serving Flask app '__main__'\n",
            " * Debug mode: on\n"
          ]
        },
        {
          "output_type": "stream",
          "name": "stderr",
          "text": [
            "INFO:werkzeug:\u001b[31m\u001b[1mWARNING: This is a development server. Do not use it in a production deployment. Use a production WSGI server instead.\u001b[0m\n",
            " * Running on http://127.0.0.1:5000\n",
            "INFO:werkzeug:\u001b[33mPress CTRL+C to quit\u001b[0m\n",
            "INFO:werkzeug: * Restarting with stat\n"
          ]
        }
      ]
    },
    {
      "cell_type": "markdown",
      "source": [
        "Q6- How do you handle forms in Flask?"
      ],
      "metadata": {
        "id": "lprDDzNoSXLB"
      }
    },
    {
      "cell_type": "code",
      "source": [
        "from flask import Flask, request\n",
        "\n",
        "app = Flask(__name__)\n",
        "\n",
        "@app.route('/form', methods=['GET', 'POST'])\n",
        "def form():\n",
        "    if request.method == 'POST':\n",
        "        name = request.form['name']\n",
        "        return f\"Hello, {name}!\"\n",
        "    return '''\n",
        "        <form method=\"post\">\n",
        "            Name: <input type=\"text\" name=\"name\">\n",
        "            <input type=\"submit\">\n",
        "        </form>\n",
        "    '''\n",
        "\n",
        "if __name__ == '__main__':\n",
        "    app.run(debug=True)\n"
      ],
      "metadata": {
        "colab": {
          "base_uri": "https://localhost:8080/"
        },
        "id": "eH0wP5z5SCID",
        "outputId": "db708515-fe8b-4fcb-c0ef-d09e77f15ccb"
      },
      "execution_count": 12,
      "outputs": [
        {
          "output_type": "stream",
          "name": "stdout",
          "text": [
            " * Serving Flask app '__main__'\n",
            " * Debug mode: on\n"
          ]
        },
        {
          "output_type": "stream",
          "name": "stderr",
          "text": [
            "INFO:werkzeug:\u001b[31m\u001b[1mWARNING: This is a development server. Do not use it in a production deployment. Use a production WSGI server instead.\u001b[0m\n",
            " * Running on http://127.0.0.1:5000\n",
            "INFO:werkzeug:\u001b[33mPress CTRL+C to quit\u001b[0m\n",
            "INFO:werkzeug: * Restarting with stat\n"
          ]
        }
      ]
    },
    {
      "cell_type": "markdown",
      "source": [
        "Q7- How can you validate form data in Flask?"
      ],
      "metadata": {
        "id": "tITCrh1vS3Lo"
      }
    },
    {
      "cell_type": "code",
      "source": [
        "from flask import Flask, request\n",
        "\n",
        "app = Flask(__name__)\n",
        "\n",
        "@app.route('/validate', methods=['POST'])\n",
        "def validate():\n",
        "    name = request.form.get('name')\n",
        "    if not name:\n",
        "        return \"Name is required!\"\n",
        "    return f\"Hello, {name}!\"\n",
        "\n",
        "if __name__ == '__main__':\n",
        "    app.run(debug=True)\n"
      ],
      "metadata": {
        "colab": {
          "base_uri": "https://localhost:8080/"
        },
        "id": "DB7Tx0kaSixa",
        "outputId": "77147df4-c972-42e2-e8ab-b888497117e4"
      },
      "execution_count": 13,
      "outputs": [
        {
          "output_type": "stream",
          "name": "stdout",
          "text": [
            " * Serving Flask app '__main__'\n",
            " * Debug mode: on\n"
          ]
        },
        {
          "output_type": "stream",
          "name": "stderr",
          "text": [
            "INFO:werkzeug:\u001b[31m\u001b[1mWARNING: This is a development server. Do not use it in a production deployment. Use a production WSGI server instead.\u001b[0m\n",
            " * Running on http://127.0.0.1:5000\n",
            "INFO:werkzeug:\u001b[33mPress CTRL+C to quit\u001b[0m\n",
            "INFO:werkzeug: * Restarting with stat\n"
          ]
        }
      ]
    },
    {
      "cell_type": "markdown",
      "source": [
        "Q8- How do you manage sessions in Flask?"
      ],
      "metadata": {
        "id": "0EWCvuaSTRSO"
      }
    },
    {
      "cell_type": "code",
      "source": [
        "from flask import Flask, session\n",
        "\n",
        "app = Flask(__name__)\n",
        "app.secret_key = 'secret'\n",
        "\n",
        "@app.route('/login')\n",
        "def login():\n",
        "    session['user'] = 'admin'\n",
        "    return \"Logged in as admin\"\n",
        "\n",
        "@app.route('/profile')\n",
        "def profile():\n",
        "    user = session.get('user')\n",
        "    return f\"Welcome {user}\" if user else \"Not logged in\"\n",
        "\n",
        "if __name__ == '__main__':\n",
        "    app.run(debug=True)\n"
      ],
      "metadata": {
        "colab": {
          "base_uri": "https://localhost:8080/"
        },
        "id": "78t5Ha-ETPLN",
        "outputId": "1a7239a8-8759-4825-c773-6c899a01fc4a"
      },
      "execution_count": 14,
      "outputs": [
        {
          "output_type": "stream",
          "name": "stdout",
          "text": [
            " * Serving Flask app '__main__'\n",
            " * Debug mode: on\n"
          ]
        },
        {
          "output_type": "stream",
          "name": "stderr",
          "text": [
            "INFO:werkzeug:\u001b[31m\u001b[1mWARNING: This is a development server. Do not use it in a production deployment. Use a production WSGI server instead.\u001b[0m\n",
            " * Running on http://127.0.0.1:5000\n",
            "INFO:werkzeug:\u001b[33mPress CTRL+C to quit\u001b[0m\n",
            "INFO:werkzeug: * Restarting with stat\n"
          ]
        }
      ]
    },
    {
      "cell_type": "markdown",
      "source": [
        "Q9- How do you redirect to a different route in Flask?"
      ],
      "metadata": {
        "id": "oG6miIXNTwEQ"
      }
    },
    {
      "cell_type": "code",
      "source": [
        "from flask import Flask, redirect, url_for\n",
        "\n",
        "app = Flask(__name__)\n",
        "\n",
        "@app.route('/old')\n",
        "def old():\n",
        "    return redirect(url_for('new'))\n",
        "\n",
        "@app.route('/new')\n",
        "def new():\n",
        "    return \"You have been redirected!\"\n",
        "\n",
        "if __name__ == '__main__':\n",
        "    app.run(debug=True)\n"
      ],
      "metadata": {
        "colab": {
          "base_uri": "https://localhost:8080/"
        },
        "id": "BP4H-v9MTX_m",
        "outputId": "a9ffaa89-4168-4c2d-d4cc-c222a24c508b"
      },
      "execution_count": 15,
      "outputs": [
        {
          "output_type": "stream",
          "name": "stdout",
          "text": [
            " * Serving Flask app '__main__'\n",
            " * Debug mode: on\n"
          ]
        },
        {
          "output_type": "stream",
          "name": "stderr",
          "text": [
            "INFO:werkzeug:\u001b[31m\u001b[1mWARNING: This is a development server. Do not use it in a production deployment. Use a production WSGI server instead.\u001b[0m\n",
            " * Running on http://127.0.0.1:5000\n",
            "INFO:werkzeug:\u001b[33mPress CTRL+C to quit\u001b[0m\n",
            "INFO:werkzeug: * Restarting with stat\n"
          ]
        }
      ]
    },
    {
      "cell_type": "markdown",
      "source": [
        "Q10-How do you handle errors in Flask (e.g., 404)?"
      ],
      "metadata": {
        "id": "9tiuXNW9T31p"
      }
    },
    {
      "cell_type": "code",
      "source": [
        "from flask import Flask\n",
        "\n",
        "app = Flask(__name__)\n",
        "\n",
        "@app.errorhandler(404)\n",
        "def not_found(error):\n",
        "    return \"Page not found\", 404\n",
        "\n",
        "if __name__ == '__main__':\n",
        "    app.run(debug=True)\n"
      ],
      "metadata": {
        "colab": {
          "base_uri": "https://localhost:8080/"
        },
        "id": "BEqIVHJrTzGR",
        "outputId": "fb8190a7-3947-486a-fce8-17a85045aafa"
      },
      "execution_count": 16,
      "outputs": [
        {
          "output_type": "stream",
          "name": "stdout",
          "text": [
            " * Serving Flask app '__main__'\n",
            " * Debug mode: on\n"
          ]
        },
        {
          "output_type": "stream",
          "name": "stderr",
          "text": [
            "INFO:werkzeug:\u001b[31m\u001b[1mWARNING: This is a development server. Do not use it in a production deployment. Use a production WSGI server instead.\u001b[0m\n",
            " * Running on http://127.0.0.1:5000\n",
            "INFO:werkzeug:\u001b[33mPress CTRL+C to quit\u001b[0m\n",
            "INFO:werkzeug: * Restarting with stat\n"
          ]
        }
      ]
    },
    {
      "cell_type": "markdown",
      "source": [
        "Q11-How do you structure a Flask app using Blueprints?"
      ],
      "metadata": {
        "id": "LZmRRSrHUUwK"
      }
    },
    {
      "cell_type": "code",
      "source": [
        "from flask import Blueprint\n",
        "\n",
        "admin = Blueprint('admin', __name__)\n",
        "\n",
        "@admin.route('/admin')\n",
        "def admin_panel():\n",
        "    return \"Admin Panel\"\n"
      ],
      "metadata": {
        "id": "qzwK-xIyT7wP"
      },
      "execution_count": 19,
      "outputs": []
    },
    {
      "cell_type": "markdown",
      "source": [
        "Q12-How do you define a custom Jinja filter in Flask?"
      ],
      "metadata": {
        "id": "oOntkZymVAGW"
      }
    },
    {
      "cell_type": "code",
      "source": [
        "from flask import Flask\n",
        "\n",
        "app = Flask(__name__)\n",
        "\n",
        "@app.template_filter('reverse')\n",
        "def reverse_string(s):\n",
        "    return s[::-1]\n",
        "\n",
        "if __name__ == '__main__':\n",
        "    app.run(debug=True)\n"
      ],
      "metadata": {
        "id": "CwiO4R9IU7Ds"
      },
      "execution_count": null,
      "outputs": []
    },
    {
      "cell_type": "markdown",
      "source": [
        "Q13-How can you redirect with query parameters in Flask?"
      ],
      "metadata": {
        "id": "_WDeS-6hWTIg"
      }
    },
    {
      "cell_type": "code",
      "source": [
        "from flask import Flask, redirect, url_for, request\n",
        "\n",
        "app = Flask(__name__)\n",
        "\n",
        "@app.route('/send')\n",
        "def send():\n",
        "    return redirect(url_for('receive', name='Dev'))\n",
        "\n",
        "@app.route('/receive')\n",
        "def receive():\n",
        "    name = request.args.get('name')\n",
        "    return f\"Hello {name}\"\n",
        "\n",
        "if __name__ == '__main__':\n",
        "    app.run(debug=True)\n"
      ],
      "metadata": {
        "id": "fXtvoCOxWLvb"
      },
      "execution_count": null,
      "outputs": []
    },
    {
      "cell_type": "markdown",
      "source": [
        "Q14- How do you return JSON responses in Flask?"
      ],
      "metadata": {
        "id": "5LaWxGLKWa7d"
      }
    },
    {
      "cell_type": "code",
      "source": [
        "from flask import Flask, jsonify\n",
        "\n",
        "app = Flask(__name__)\n",
        "\n",
        "@app.route('/data')\n",
        "def data():\n",
        "    return jsonify({\"name\": \"Alice\", \"age\": 25})\n",
        "\n",
        "if __name__ == '__main__':\n",
        "    app.run(debug=True)\n"
      ],
      "metadata": {
        "id": "X9iv1EI6WYeM"
      },
      "execution_count": null,
      "outputs": []
    },
    {
      "cell_type": "markdown",
      "source": [
        "Q15- How do you capture URL parameters in Flask?\n"
      ],
      "metadata": {
        "id": "IxpEYYOKWhI1"
      }
    },
    {
      "cell_type": "code",
      "source": [
        "from flask import Flask\n",
        "\n",
        "app = Flask(__name__)\n",
        "\n",
        "@app.route('/user/<username>')\n",
        "def user_profile(username):\n",
        "    return f\"Welcome, {username}!\"\n",
        "\n",
        "if __name__ == '__main__':\n",
        "    app.run(debug=True)\n"
      ],
      "metadata": {
        "id": "V4-ngtm6WeC9"
      },
      "execution_count": null,
      "outputs": []
    },
    {
      "cell_type": "code",
      "source": [],
      "metadata": {
        "id": "WdPN413eWnYp"
      },
      "execution_count": null,
      "outputs": []
    }
  ]
}